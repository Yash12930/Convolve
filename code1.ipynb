{
 "cells": [
  {
   "cell_type": "code",
   "execution_count": 2,
   "metadata": {},
   "outputs": [],
   "source": [
    "import joblib\n",
    "import pandas as pd\n",
    "from sklearn.model_selection import train_test_split\n",
    "from sklearn.ensemble import RandomForestClassifier\n",
    "from sklearn.metrics import classification_report, roc_auc_score, confusion_matrix, ConfusionMatrixDisplay, f1_score\n",
    "from imblearn.over_sampling import SMOTE\n",
    "from sklearn.preprocessing import StandardScaler\n",
    "from sklearn.impute import SimpleImputer\n",
    "import optuna"
   ]
  },
  {
   "cell_type": "code",
   "execution_count": 3,
   "metadata": {},
   "outputs": [],
   "source": [
    "def objective(trial):\n",
    "    params = {\n",
    "        'n_estimators': trial.suggest_int('n_estimators', 50, 300),\n",
    "        'max_depth': trial.suggest_int('max_depth', 3, 20),\n",
    "        'min_samples_split': trial.suggest_int('min_samples_split', 2, 20),\n",
    "        'min_samples_leaf': trial.suggest_int('min_samples_leaf', 1, 10),\n",
    "        'max_features': trial.suggest_float('max_features', 0.1, 1.0),\n",
    "        'random_state': 42,\n",
    "        'class_weight': 'balanced'\n",
    "    }\n",
    "    \n",
    "    model = RandomForestClassifier(**params)\n",
    "    \n",
    "    # Use f1 score for optimization\n",
    "    scores = cross_val_score(model, X_resampled, y_resampled, cv=5, scoring='f1')\n",
    "    \n",
    "    return scores.mean()"
   ]
  },
  {
   "cell_type": "code",
   "execution_count": 4,
   "metadata": {},
   "outputs": [
    {
     "ename": "",
     "evalue": "",
     "output_type": "error",
     "traceback": [
      "\u001b[1;31mThe Kernel crashed while executing code in the current cell or a previous cell. \n",
      "\u001b[1;31mPlease review the code in the cell(s) to identify a possible cause of the failure. \n",
      "\u001b[1;31mClick <a href='https://aka.ms/vscodeJupyterKernelCrash'>here</a> for more info. \n",
      "\u001b[1;31mView Jupyter <a href='command:jupyter.viewOutput'>log</a> for further details."
     ]
    }
   ],
   "source": [
    "dev_data = pd.read_csv(\"Dev_data_to_be_shared.csv\")\n",
    "validation_data = pd.read_csv(\"validation_data_to_be_shared.csv\")\n",
    "\n",
    "# Columns to drop\n",
    "columns_to_drop = ['account_number',\n",
    "    'bureau_enquiry_17', 'bureau_16', 'bureau_38', 'bureau_enquiry_37', 'bureau_182', 'bureau_282',\n",
    "    'bureau_120', 'bureau_142', 'bureau_362', 'bureau_242', 'bureau_162', 'bureau_382', 'bureau_262',\n",
    "    'bureau_322', 'bureau_202', 'bureau_100', 'bureau_342', 'onus_attribute_28', 'bureau_56', 'bureau_222',\n",
    "    'bureau_302', 'bureau_423', 'bureau_402', 'bureau_80', 'bureau_enquiry_7', 'bureau_4', 'bureau_26',\n",
    "    'bureau_enquiry_27', 'bureau_47', 'bureau_enquiry_47', 'bureau_292', 'bureau_172', 'bureau_392',\n",
    "    'bureau_192', 'bureau_131', 'bureau_252', 'bureau_110', 'bureau_352', 'bureau_272', 'bureau_152',\n",
    "    'bureau_372', 'bureau_212', 'bureau_312', 'bureau_232', 'bureau_332', 'bureau_412', 'bureau_90', 'bureau_70'\n",
    "]\n",
    "\n",
    "# Drop specified columns\n",
    "dev_data.drop(columns=columns_to_drop, axis=1, errors='ignore', inplace=True)\n",
    "validation_data.drop(columns=columns_to_drop, axis=1, errors='ignore', inplace=True)\n",
    "\n",
    "# Drop columns with all missing values\n",
    "dev_data.dropna(axis=1, how=\"all\", inplace=True)\n",
    "validation_data.dropna(axis=1, how=\"all\", inplace=True)\n",
    "\n",
    "# Separate target variable from features\n",
    "X_dev = dev_data.drop(columns=[\"bad_flag\"])\n",
    "y_dev = dev_data[\"bad_flag\"]\n",
    "\n",
    "# Handle missing values by imputing with median\n",
    "imputer = SimpleImputer(strategy=\"median\")\n",
    "X_dev_imputed = pd.DataFrame(imputer.fit_transform(X_dev), columns=X_dev.columns)\n",
    "validation_data_imputed = pd.DataFrame(imputer.transform(validation_data), columns=validation_data.columns)\n",
    "\n",
    "# Add the target column back to the development data\n",
    "dev_data_imputed = X_dev_imputed.copy()\n",
    "dev_data_imputed[\"bad_flag\"] = y_dev.reset_index(drop=True)\n",
    "\n",
    "# Define features and target\n",
    "X = dev_data_imputed.drop(columns=['bad_flag'], axis=1)\n",
    "y = dev_data_imputed['bad_flag']\n",
    "\n",
    "# Standardize the data\n",
    "scaler = StandardScaler()\n",
    "X_scaled = scaler.fit_transform(X)\n",
    "\n",
    "# Apply SMOTE for oversampling\n",
    "smote = SMOTE(random_state=17)\n",
    "X_resampled, y_resampled = smote.fit_resample(X_scaled, y)\n",
    "\n",
    "# Split resampled data into training and testing sets\n",
    "X_train, X_test, y_train, y_test = train_test_split(X_resampled, y_resampled, test_size=0.04, random_state=42)\n",
    "\n",
    "# # Train a Random Forest Classifier\n",
    "# model = RandomForestClassifier(random_state=42, n_estimators=101, class_weight='balanced')\n",
    "# model.fit(X_train, y_train)\n",
    "\n",
    "# # Evaluate the model on the test set\n",
    "# y_pred = model.predict(X_test)\n",
    "# Create and run study\n",
    "study = optuna.create_study(direction='maximize')\n",
    "study.optimize(objective, n_trials=50)\n",
    "\n",
    "# Print results and train final model\n",
    "print(\"Best parameters:\", study.best_params)\n",
    "print(\"Best f1-score:\", study.best_value)\n",
    "\n",
    "# Train final model with best parameters\n",
    "final_model = RandomForestClassifier(**study.best_params)\n",
    "final_model.fit(X_train, y_train)\n",
    "\n",
    "# Evaluate\n",
    "y_pred = final_model.predict(X_test)\n",
    "print(\"\\nFinal F1 Score:\", f1_score(y_test, y_pred))\n",
    "print(\"\\nClassification Report:\")\n",
    "print(classification_report(y_test, y_pred))\n",
    "\n",
    "# Save model\n",
    "joblib.dump(final_model, 'optimized_rf_model.pkl')\n",
    "\n",
    "y_pred_proba = final_model.predict_proba(X_test)[:, 1]"
   ]
  },
  {
   "cell_type": "code",
   "execution_count": 3,
   "metadata": {},
   "outputs": [
    {
     "name": "stdout",
     "output_type": "stream",
     "text": [
      "Classification Report:\n",
      "              precision    recall  f1-score   support\n",
      "\n",
      "           0  0.99073584 0.99973291 0.99521404      3744\n",
      "           1  0.99974073 0.99100488 0.99535364      3891\n",
      "\n",
      "    accuracy                      0.99528487      7635\n",
      "   macro avg  0.99523829 0.99536889 0.99528384      7635\n",
      "weighted avg  0.99532497 0.99528487 0.99528518      7635\n",
      "\n",
      "ROC AUC Score: 0.99990723\n",
      "Validation predictions saved as 'validation_predictions.csv'.\n",
      "Model saved as 'random_forest_model.pkl'.\n"
     ]
    }
   ],
   "source": [
    "print(\"Classification Report:\")\n",
    "print(classification_report(y_test, y_pred, digits = 8))\n",
    "print(f\"ROC AUC Score: {roc_auc_score(y_test, y_pred_proba):.8f}\")\n",
    "\n",
    "# Step 2: Prepare validation data\n",
    "validation_X = validation_data_imputed.drop(columns=['bad_flag'], axis=1, errors='ignore')  # Assume bad_flag may not exist\n",
    "validation_X_scaled = scaler.transform(validation_X)\n",
    "\n",
    "# Predict probabilities for validation data\n",
    "validation_pred_proba = model.predict_proba(validation_X_scaled)[:, 1]\n",
    "\n",
    "# Save the results\n",
    "validation_data_imputed['predicted_probability'] = validation_pred_proba\n",
    "validation_data_imputed[['account_number', 'predicted_probability']].to_csv(\n",
    "    \"validation_predictions.csv\", index=False\n",
    ")\n",
    "\n",
    "print(\"Validation predictions saved as 'validation_predictions.csv'.\")\n",
    "\n",
    "# # Step 3: Save the trained model\n",
    "# joblib.dump(model, 'random_forest_model.pkl')  # Save model in .h5 format (though .pkl is more typical)\n",
    "\n",
    "\n",
    "# print(\"Model saved as 'random_forest_model.pkl'.\")"
   ]
  },
  {
   "cell_type": "code",
   "execution_count": 9,
   "metadata": {},
   "outputs": [
    {
     "name": "stderr",
     "output_type": "stream",
     "text": [
      "c:\\Users\\donde\\AppData\\Local\\Programs\\Python\\Python312\\Lib\\site-packages\\sklearn\\utils\\validation.py:2732: UserWarning: X has feature names, but RandomForestClassifier was fitted without feature names\n",
      "  warnings.warn(\n"
     ]
    },
    {
     "name": "stdout",
     "output_type": "stream",
     "text": [
      "Validation predictions saved as 'validation_predictions.csv'.\n"
     ]
    }
   ],
   "source": [
    "# Ensure validation set columns match training set columns\n",
    "validation_X_imputed = validation_data_imputed.drop(columns=['bad_flag'], axis=1, errors='ignore')\n",
    "\n",
    "# Reindex the validation set columns to match the training set's columns\n",
    "validation_X_imputed = validation_X_imputed.reindex(columns=X.columns, fill_value=0)\n",
    "\n",
    "# Standardize the validation set using the same scaler\n",
    "validation_X_scaled = scaler.transform(validation_X_imputed)\n",
    "\n",
    "# Convert to DataFrame to retain column names after scaling\n",
    "validation_X_scaled_df = pd.DataFrame(validation_X_scaled, columns=X.columns)\n",
    "\n",
    "# Predict probabilities for validation data\n",
    "validation_pred_proba = model.predict_proba(validation_X_scaled_df)[:, 1]\n",
    "\n",
    "# Save the results with 7 decimal places\n",
    "validation_data_imputed['predicted_probability'] = validation_pred_proba\n",
    "\n",
    "# Save to CSV\n",
    "validation_data_imputed[['account_number', 'predicted_probability']].to_csv(\n",
    "    \"validation_predictions.csv\", index=False\n",
    ")\n",
    "\n",
    "print(\"Validation predictions saved as 'validation_predictions.csv'.\")\n"
   ]
  },
  {
   "cell_type": "code",
   "execution_count": null,
   "metadata": {},
   "outputs": [],
   "source": [
    "# Add this code block after getting y_pred\n",
    "import matplotlib.pyplot as plt\n",
    "\n",
    "# Create and plot confusion matrix\n",
    "cm = confusion_matrix(y_test, y_pred)\n",
    "disp = ConfusionMatrixDisplay(confusion_matrix=cm, display_labels=['Not Default', 'Default'])\n",
    "disp.plot(cmap='Blues', values_format='d')\n",
    "plt.title('Confusion Matrix')\n",
    "plt.show()\n",
    "\n",
    "# Print numeric values\n",
    "print(\"\\nConfusion Matrix:\")\n",
    "print(cm)"
   ]
  },
  {
   "cell_type": "code",
   "execution_count": null,
   "metadata": {},
   "outputs": [],
   "source": []
  },
  {
   "cell_type": "code",
   "execution_count": null,
   "metadata": {},
   "outputs": [],
   "source": []
  }
 ],
 "metadata": {
  "kernelspec": {
   "display_name": "venv",
   "language": "python",
   "name": "python3"
  },
  "language_info": {
   "codemirror_mode": {
    "name": "ipython",
    "version": 3
   },
   "file_extension": ".py",
   "mimetype": "text/x-python",
   "name": "python",
   "nbconvert_exporter": "python",
   "pygments_lexer": "ipython3",
   "version": "3.12.7"
  }
 },
 "nbformat": 4,
 "nbformat_minor": 2
}
