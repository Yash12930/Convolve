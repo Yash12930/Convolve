{
 "cells": [
  {
   "cell_type": "code",
   "execution_count": 5,
   "metadata": {},
   "outputs": [],
   "source": [
    "import joblib\n",
    "import pandas as pd\n",
    "from sklearn.model_selection import train_test_split\n",
    "from sklearn.ensemble import RandomForestClassifier\n",
    "from sklearn.metrics import classification_report, roc_auc_score, confusion_matrix, ConfusionMatrixDisplay\n",
    "from imblearn.over_sampling import SMOTE\n",
    "from sklearn.preprocessing import StandardScaler\n",
    "from sklearn.impute import SimpleImputer"
   ]
  },
  {
   "cell_type": "code",
   "execution_count": 17,
   "metadata": {},
   "outputs": [],
   "source": [
    "dev_data = pd.read_csv(\"Dev_data_to_be_shared.csv\")\n",
    "validation_data = pd.read_csv(\"validation_data_to_be_shared.csv\")\n",
    "# Store the 'account_number' separately before dropping it\n",
    "account_number = validation_data['account_number']\n",
    "# Columns to drop\n",
    "columns_to_drop = [\n",
    "    'bureau_enquiry_17', 'bureau_16', 'bureau_38', 'bureau_enquiry_37', 'bureau_182', 'bureau_282',\n",
    "    'bureau_120', 'bureau_142', 'bureau_362', 'bureau_242', 'bureau_162', 'bureau_382', 'bureau_262',\n",
    "    'bureau_322', 'bureau_202', 'bureau_100', 'bureau_342', 'onus_attribute_28', 'bureau_56', 'bureau_222',\n",
    "    'bureau_302', 'bureau_423', 'bureau_402', 'bureau_80', 'bureau_enquiry_7', 'bureau_4', 'bureau_26',\n",
    "    'bureau_enquiry_27', 'bureau_47', 'bureau_enquiry_47', 'bureau_292', 'bureau_172', 'bureau_392',\n",
    "    'bureau_192', 'bureau_131', 'bureau_252', 'bureau_110', 'bureau_352', 'bureau_272', 'bureau_152',\n",
    "    'bureau_372', 'bureau_212', 'bureau_312', 'bureau_232', 'bureau_332', 'bureau_412', 'bureau_90', 'bureau_70', 'account_number'\n",
    "]\n",
    "\n",
    "# Drop specified columns\n",
    "dev_data.drop(columns=columns_to_drop, axis=1, errors='ignore', inplace=True)\n",
    "validation_data.drop(columns=columns_to_drop, axis=1, errors='ignore', inplace=True)\n",
    "\n",
    "# Drop columns with all missing values\n",
    "dev_data.dropna(axis=1, how=\"all\", inplace=True)\n",
    "validation_data.dropna(axis=1, how=\"all\", inplace=True)\n",
    "\n",
    "# Separate target variable from features\n",
    "X_dev = dev_data.drop(columns=[\"bad_flag\"])\n",
    "y_dev = dev_data[\"bad_flag\"]\n",
    "\n",
    "# Handle missing values by imputing with median\n",
    "imputer = SimpleImputer(strategy=\"median\")\n",
    "X_dev_imputed = pd.DataFrame(imputer.fit_transform(X_dev), columns=X_dev.columns)\n",
    "validation_data_imputed = pd.DataFrame(imputer.transform(validation_data), columns=validation_data.columns)\n",
    "\n",
    "# Add the target column back to the development data\n",
    "dev_data_imputed = X_dev_imputed.copy()\n",
    "dev_data_imputed[\"bad_flag\"] = y_dev.reset_index(drop=True)\n",
    "\n",
    "# Define features and target\n",
    "X = dev_data_imputed.drop(columns=['bad_flag'], axis=1)\n",
    "y = dev_data_imputed['bad_flag']\n",
    "\n",
    "# Standardize the data\n",
    "scaler = StandardScaler()\n",
    "X_scaled = scaler.fit_transform(X)\n",
    "\n",
    "# Apply SMOTE for oversampling\n",
    "smote = SMOTE(random_state=42)\n",
    "X_resampled, y_resampled = smote.fit_resample(X_scaled, y)\n",
    "\n",
    "# Split resampled data into training and testing sets\n",
    "X_train, X_test, y_train, y_test = train_test_split(X_resampled, y_resampled, test_size=0.035, random_state=42)\n",
    "\n",
    "# Train a Random Forest Classifier\n",
    "model = RandomForestClassifier(random_state=42, n_estimators=101, class_weight='balanced')\n",
    "model.fit(X_train, y_train)\n",
    "\n",
    "# Evaluate the model on the test set\n",
    "y_pred = model.predict(X_test)\n",
    "y_pred_proba = model.predict_proba(X_test)[:, 1]"
   ]
  },
  {
   "cell_type": "code",
   "execution_count": 18,
   "metadata": {},
   "outputs": [
    {
     "name": "stdout",
     "output_type": "stream",
     "text": [
      "Classification Report:\n",
      "              precision    recall  f1-score   support\n",
      "\n",
      "           0  0.98995434 0.99969259 0.99479963      3253\n",
      "           1  0.99970554 0.99037340 0.99501758      3428\n",
      "\n",
      "    accuracy                      0.99491094      6681\n",
      "   macro avg  0.99482994 0.99503299 0.99490861      6681\n",
      "weighted avg  0.99495765 0.99491094 0.99491146      6681\n",
      "\n",
      "ROC AUC Score: 0.99985975\n",
      "Validation predictions saved as 'validation_predictions.csv'.\n",
      "Model saved as 'random_forest_model.pkl'.\n"
     ]
    }
   ],
   "source": [
    "print(\"Classification Report:\")\n",
    "print(classification_report(y_test, y_pred, digits=8))\n",
    "print(f\"ROC AUC Score: {roc_auc_score(y_test, y_pred_proba):.8f}\")\n",
    "# Store the 'account_number' separately before dropping it\n",
    "# Step 2: Prepare validation data\n",
    "validation_X = validation_data_imputed.drop(columns=['bad_flag'], axis=1, errors='ignore')  # Ensure alignment\n",
    "validation_X_scaled = scaler.transform(validation_X)\n",
    "\n",
    "# Predict probabilities for validation data\n",
    "validation_pred_proba = model.predict_proba(validation_X_scaled)[:, 1]\n",
    "\n",
    "# Save the results\n",
    "if 'account_number' in validation_data.columns:\n",
    "    validation_data['predicted_probability'] = validation_pred_proba\n",
    "    validation_data[['account_number', 'predicted_probability']].to_csv(\n",
    "        \"validation_predictions.csv\", index=False\n",
    "    )\n",
    "else:\n",
    "    validation_data_imputed['predicted_probability'] = validation_pred_proba\n",
    "    validation_data_imputed.to_csv(\"validation_predictions.csv\", index=False)\n",
    "\n",
    "print(\"Validation predictions saved as 'validation_predictions.csv'.\")\n",
    "\n",
    "# Step 3: Save the trained model\n",
    "joblib.dump(model, 'random_forest_model.pkl')\n",
    "\n",
    "print(\"Model saved as 'random_forest_model.pkl'.\")"
   ]
  },
  {
   "cell_type": "code",
   "execution_count": 19,
   "metadata": {},
   "outputs": [
    {
     "name": "stderr",
     "output_type": "stream",
     "text": [
      "c:\\Users\\donde\\AppData\\Local\\Programs\\Python\\Python312\\Lib\\site-packages\\sklearn\\utils\\validation.py:2732: UserWarning: X has feature names, but RandomForestClassifier was fitted without feature names\n",
      "  warnings.warn(\n"
     ]
    },
    {
     "name": "stdout",
     "output_type": "stream",
     "text": [
      "Validation predictions saved as 'validation_predictions.csv'.\n"
     ]
    }
   ],
   "source": [
    "# Drop 'account_number' and 'bad_flag' since they were excluded during training\n",
    "validation_X_imputed = validation_data_imputed.drop(columns=['bad_flag'], axis=1, errors='ignore')\n",
    "\n",
    "# Reindex to match training columns, ensuring proper column alignment\n",
    "validation_X_imputed = validation_X_imputed.reindex(columns=X.columns, fill_value=0)\n",
    "\n",
    "# Standardize the validation set using the same scaler\n",
    "validation_X_scaled = scaler.transform(validation_X_imputed)\n",
    "\n",
    "# Convert to DataFrame to retain column names\n",
    "validation_X_scaled_df = pd.DataFrame(validation_X_scaled, columns=X.columns)\n",
    "\n",
    "# Predict probabilities\n",
    "validation_pred_proba = model.predict_proba(validation_X_scaled_df)[:, 1]\n",
    "\n",
    "# Create a new DataFrame with 'account_number' and predictions\n",
    "output_df = pd.DataFrame({\n",
    "    'account_number': account_number,\n",
    "    'predicted_probability': validation_pred_proba\n",
    "})\n",
    "\n",
    "# Save to CSV with 7 decimal precision\n",
    "output_df.to_csv(\"validation_predictions.csv\", index=False, float_format='%.7f')\n",
    "\n",
    "print(\"Validation predictions saved as 'validation_predictions.csv'.\")"
   ]
  },
  {
   "cell_type": "code",
   "execution_count": 20,
   "metadata": {},
   "outputs": [
    {
     "name": "stdout",
     "output_type": "stream",
     "text": [
      "[[3252    1]\n",
      " [  33 3395]]\n"
     ]
    },
    {
     "data": {
      "image/png": "[encoded data removed]",
      "text/plain": [
       "<Figure size 640x480 with 2 Axes>"
      ]
     },
     "metadata": {},
     "output_type": "display_data"
    }
   ],
   "source": [
    "import matplotlib.pyplot as plt\n",
    "cm= confusion_matrix(y_test,y_pred)\n",
    "disp=ConfusionMatrixDisplay(confusion_matrix=cm, display_labels=['Not Default', 'Default'])\n",
    "disp.plot(cmap='Blues', values_format='d')\n",
    "plt.title('\\n Confusion Matrix:')\n",
    "print(cm)"
   ]
  },
  {
   "cell_type": "code",
   "execution_count": 21,
   "metadata": {},
   "outputs": [],
   "source": [
    "model = joblib.load('random_forest_model.pkl')"
   ]
  },
  {
   "cell_type": "code",
   "execution_count": 22,
   "metadata": {},
   "outputs": [],
   "source": [
    "dev_data = pd.read_csv(\"Dev_data_to_be_shared.csv\")\n",
    "def preprocess_data(data):\n",
    "    data = data.drop(columns=columns_to_drop, errors='ignore')\n",
    "    data = data.dropna(axis=1, how=\"all\")\n",
    "    imputer = SimpleImputer(strategy=\"median\")\n",
    "    data_imputed = pd.DataFrame(imputer.fit_transform(data), columns=data.columns)\n",
    "    return data_imputed\n",
    "\n",
    "# Preprocess both datasets\n",
    "dev_data = preprocess_data(dev_data)\n",
    "\n",
    "# Split features and target\n",
    "X_dev = dev_data.drop(columns=['bad_flag'], errors='ignore')\n",
    "y_dev = dev_data['bad_flag']\n",
    "\n",
    "# Standardize the data\n",
    "scaler = StandardScaler()\n",
    "X_dev_scaled = scaler.fit_transform(X_dev)"
   ]
  },
  {
   "cell_type": "code",
   "execution_count": 23,
   "metadata": {},
   "outputs": [
    {
     "name": "stdout",
     "output_type": "stream",
     "text": [
      "Classification Report on Dev Data:\n",
      "              precision    recall  f1-score   support\n",
      "\n",
      "         0.0    0.99965   0.99999   0.99982     95434\n",
      "         1.0    0.99925   0.97595   0.98746      1372\n",
      "\n",
      "    accuracy                        0.99965     96806\n",
      "   macro avg    0.99945   0.98797   0.99364     96806\n",
      "weighted avg    0.99965   0.99965   0.99965     96806\n",
      "\n",
      "ROC AUC Score: 0.99994127\n"
     ]
    },
    {
     "data": {
      "text/plain": [
       "<sklearn.metrics._plot.confusion_matrix.ConfusionMatrixDisplay at 0x2505b538410>"
      ]
     },
     "execution_count": 23,
     "metadata": {},
     "output_type": "execute_result"
    },
    {
     "data": {
      "image/png": "[encoded data removed]",
      "text/plain": [
       "<Figure size 640x480 with 2 Axes>"
      ]
     },
     "metadata": {},
     "output_type": "display_data"
    }
   ],
   "source": [
    "# 3. Testing on the entire dev data\n",
    "y_dev_pred = model.predict(X_dev_scaled)\n",
    "y_dev_pred_proba = model.predict_proba(X_dev_scaled)[:, 1]\n",
    "\n",
    "# Evaluation on dev data\n",
    "print(\"Classification Report on Dev Data:\")\n",
    "print(classification_report(y_dev, y_dev_pred,digits=5))\n",
    "print(f\"ROC AUC Score: {roc_auc_score(y_dev, y_dev_pred_proba):.8f}\")\n",
    "# Confusion Matrix\n",
    "conf_matrix = confusion_matrix(y_dev, y_dev_pred)\n",
    "ConfusionMatrixDisplay(conf_matrix).plot()"
   ]
  },
  {
   "cell_type": "code",
   "execution_count": null,
   "metadata": {},
   "outputs": [],
   "source": []
  }
 ],
 "metadata": {
  "kernelspec": {
   "display_name": "Python 3",
   "language": "python",
   "name": "python3"
  },
  "language_info": {
   "codemirror_mode": {
    "name": "ipython",
    "version": 3
   },
   "file_extension": ".py",
   "mimetype": "text/x-python",
   "name": "python",
   "nbconvert_exporter": "python",
   "pygments_lexer": "ipython3",
   "version": "3.12.8"
  }
 },
 "nbformat": 4,
 "nbformat_minor": 2
}
